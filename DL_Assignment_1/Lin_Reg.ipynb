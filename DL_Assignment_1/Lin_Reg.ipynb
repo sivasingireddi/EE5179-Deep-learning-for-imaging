{
 "cells": [
  {
   "cell_type": "code",
   "execution_count": 1,
   "metadata": {
    "colab": {
     "base_uri": "https://localhost:8080/"
    },
    "executionInfo": {
     "elapsed": 26,
     "status": "ok",
     "timestamp": 1691386562349,
     "user": {
      "displayName": "Kusuma Rahul Siddartha Sakya ee22m015",
      "userId": "00106052245300070047"
     },
     "user_tz": -330
    },
    "id": "alrXoCflGKM8",
    "outputId": "9f115217-f4ea-48fd-c7dd-fb0f7d9c44d8"
   },
   "outputs": [
    {
     "name": "stdout",
     "output_type": "stream",
     "text": [
      "1.21.5\n"
     ]
    }
   ],
   "source": [
    "import numpy as np\n",
    "print(np.__version__)\n",
    "import matplotlib.pylab as plt"
   ]
  },
  {
   "cell_type": "markdown",
   "metadata": {
    "id": "UH2Rz-FUW_Bz"
   },
   "source": [
    "# Linear Regression\n",
    "\n",
    "you will train 1D linear regresion model with PyTorch by using data that you created. <br>The model has two parameters: the slope `x` and bias `b`.\n",
    "\n",
    "Model: $ y = wx+b $"
   ]
  },
  {
   "cell_type": "code",
   "execution_count": 2,
   "metadata": {
    "colab": {
     "base_uri": "https://localhost:8080/",
     "height": 449
    },
    "executionInfo": {
     "elapsed": 10,
     "status": "ok",
     "timestamp": 1691386566624,
     "user": {
      "displayName": "Kusuma Rahul Siddartha Sakya ee22m015",
      "userId": "00106052245300070047"
     },
     "user_tz": -330
    },
    "id": "Cn942jBmad6f",
    "outputId": "ae23ac7b-3221-4ea8-e3b0-1b38eefbec84"
   },
   "outputs": [
    {
     "data": {
      "image/png": "[encoded data removed]",
      "text/plain": [
       "<Figure size 640x480 with 1 Axes>"
      ]
     },
     "metadata": {},
     "output_type": "display_data"
    }
   ],
   "source": [
    "# Create the f(X) with a slope of -3\n",
    "X = np.arange(-3, 3, 0.1)\n",
    "f = -3 * X + 2\n",
    "# Add some noise to f(X) and save it in Y\n",
    "Y = f + 0.5 * np.random.rand(len(X))\n",
    "\n",
    "# Plot the data points\n",
    "\n",
    "plt.plot(X,Y, 'rx', label = 'Y')\n",
    "plt.xlabel('x')\n",
    "plt.ylabel('y')\n",
    "plt.legend()\n",
    "plt.show()"
   ]
  },
  {
   "cell_type": "markdown",
   "metadata": {
    "id": "nQeWM8tWYhjO"
   },
   "source": [
    "**Your Task** (Step 1):  Initialize Model: $w=2,b=-1$\n"
   ]
  },
  {
   "cell_type": "code",
   "execution_count": 3,
   "metadata": {
    "executionInfo": {
     "elapsed": 1147,
     "status": "ok",
     "timestamp": 1691386571138,
     "user": {
      "displayName": "Kusuma Rahul Siddartha Sakya ee22m015",
      "userId": "00106052245300070047"
     },
     "user_tz": -330
    },
    "id": "dBk37YCbVZGc"
   },
   "outputs": [],
   "source": [
    "w=2.0\n",
    "b=-1.0"
   ]
  },
  {
   "cell_type": "markdown",
   "metadata": {
    "id": "i6Kftt22Y1Sd"
   },
   "source": [
    "**Your Task** (Step 2): Define the function <code>forward(x, w, b)</code> makes the prediction as $y=wx+b$"
   ]
  },
  {
   "cell_type": "code",
   "execution_count": 4,
   "metadata": {
    "colab": {
     "base_uri": "https://localhost:8080/"
    },
    "executionInfo": {
     "elapsed": 18,
     "status": "ok",
     "timestamp": 1691386597608,
     "user": {
      "displayName": "Kusuma Rahul Siddartha Sakya ee22m015",
      "userId": "00106052245300070047"
     },
     "user_tz": -330
    },
    "id": "JAdXtg_bXzwn",
    "outputId": "45485414-b3b9-4137-b880-b70651ca5ec5"
   },
   "outputs": [
    {
     "name": "stdout",
     "output_type": "stream",
     "text": [
      "The prediction:  [[1.]\n",
      " [3.]]\n"
     ]
    }
   ],
   "source": [
    "def forward(x,w,b):\n",
    "    # YOUR CODE STARTS HERE\n",
    "    yhat=w*x+b\n",
    "    # YOUR CODE ends HERE\n",
    "    return yhat\n",
    "\n",
    "# test: Try to make the prediction for multiple inputs: x1=1.0 and x2=2.0\n",
    "x = np.array([[1.0], [2.0]])\n",
    "yhat = forward(x,w,b)\n",
    "print(\"The prediction: \", yhat)\n",
    "\n",
    "assert yhat[0] == 1 # at x=1, predicted value should be 1\n",
    "assert yhat[1] == 3 # at x=2, predicted value should be 3"
   ]
  },
  {
   "cell_type": "markdown",
   "metadata": {
    "id": "MwtGRZ3qbc2A"
   },
   "source": [
    "**Your Task** (Step 3): Define the cost or criterion function using MSE (Mean Square Error):"
   ]
  },
  {
   "cell_type": "code",
   "execution_count": 5,
   "metadata": {
    "executionInfo": {
     "elapsed": 369,
     "status": "ok",
     "timestamp": 1691387080981,
     "user": {
      "displayName": "Kusuma Rahul Siddartha Sakya ee22m015",
      "userId": "00106052245300070047"
     },
     "user_tz": -330
    },
    "id": "0rVUdfI5ZUQJ"
   },
   "outputs": [],
   "source": [
    "# Create the MSE function for evaluate the result.\n",
    "def criterion(yhat, y):\n",
    "    # YOUR CODE STARTS HERE\n",
    "    loss=np.mean((yhat-y)**2)\n",
    "    # YOUR CODE ends HERE\n",
    "    return loss\n",
    "\n",
    "# test cases:\n",
    "y_true = np.array([3, -0.5, 2, 7])\n",
    "y_pred = np.array([2.5, 0.0, 2, 8])\n",
    "loss = criterion(y_pred,y_true)\n",
    "\n",
    "assert loss.item() == 0.375"
   ]
  },
  {
   "cell_type": "markdown",
   "metadata": {
    "id": "AMiO1VvwVfxD"
   },
   "source": [
    "**Your Task** (Step 4): Train your model"
   ]
  },
  {
   "cell_type": "code",
   "execution_count": 6,
   "metadata": {
    "executionInfo": {
     "elapsed": 9,
     "status": "ok",
     "timestamp": 1691388091581,
     "user": {
      "displayName": "Kusuma Rahul Siddartha Sakya ee22m015",
      "userId": "00106052245300070047"
     },
     "user_tz": -330
    },
    "id": "MaGbytD3bpZ2"
   },
   "outputs": [],
   "source": [
    "# Define a function for train the model\n",
    "LOSS = []\n",
    "def train_model(iter,w_init,b_init):\n",
    "    w= w_init\n",
    "    b= b_init\n",
    "    for epoch in range(iter):\n",
    "\n",
    "        # YOUR CODE STARTS HERE\n",
    "        # make the prediction as we learned in the last lab\n",
    "        # input data: X\n",
    "        Y_hat = forward(X,w,b)\n",
    "\n",
    "        # calculate the loss between prediction Yhat and GT Y\n",
    "        loss = criterion(Y_hat,Y)\n",
    "\n",
    "        # store the loss into list\n",
    "        LOSS.append(loss)\n",
    "\n",
    "        # backward pass: compute gradient of the loss with respect to all the learnable parameters\n",
    "        m = len(X)\n",
    "        w_grad = (1/m) * np.sum((Y_hat-Y)*X)\n",
    "        b_grad = (1/m) * np.sum(Y_hat-Y)\n",
    "\n",
    "        # updata parameters with learnign rate alpha=0.01\n",
    "        # w = w - alpha * w_grad\n",
    "        # b = b - alpha * b_grad\n",
    "        alpha = 0.01\n",
    "        w = w - alpha * w_grad\n",
    "        b = b - alpha * b_grad\n",
    "\n",
    "        # YOUR CODE ENDS HERE\n",
    "    return w,b\n",
    "\n"
   ]
  },
  {
   "cell_type": "code",
   "execution_count": 7,
   "metadata": {
    "colab": {
     "base_uri": "https://localhost:8080/",
     "height": 523
    },
    "executionInfo": {
     "elapsed": 771,
     "status": "ok",
     "timestamp": 1691388095396,
     "user": {
      "displayName": "Kusuma Rahul Siddartha Sakya ee22m015",
      "userId": "00106052245300070047"
     },
     "user_tz": -330
    },
    "id": "HjvCElREb2Om",
    "outputId": "72a8c045-ded2-4440-c188-3f2183fcdf37"
   },
   "outputs": [
    {
     "data": {
      "text/plain": [
       "Text(46.972222222222214, 0.5, 'Cost')"
      ]
     },
     "execution_count": 7,
     "metadata": {},
     "output_type": "execute_result"
    },
    {
     "data": {
      "image/png": "[encoded data removed]",
      "text/plain": [
       "<Figure size 640x480 with 1 Axes>"
      ]
     },
     "metadata": {},
     "output_type": "display_data"
    }
   ],
   "source": [
    "w_final,b_final = train_model(1000,w,b)\n",
    "\n",
    "# Plot the loss for each iteration\n",
    "\n",
    "plt.plot([x for x in LOSS])\n",
    "plt.tight_layout()\n",
    "plt.xlabel(\"Epoch/Iterations\")\n",
    "plt.ylabel(\"Cost\")"
   ]
  },
  {
   "cell_type": "code",
   "execution_count": 8,
   "metadata": {
    "colab": {
     "base_uri": "https://localhost:8080/",
     "height": 449
    },
    "executionInfo": {
     "elapsed": 450,
     "status": "ok",
     "timestamp": 1691388102518,
     "user": {
      "displayName": "Kusuma Rahul Siddartha Sakya ee22m015",
      "userId": "00106052245300070047"
     },
     "user_tz": -330
    },
    "id": "7ynYtt_NWaxI",
    "outputId": "94bdcb0a-0cc7-402e-afd6-7f0fc73187b4"
   },
   "outputs": [
    {
     "data": {
      "image/png": "[encoded data removed]",
      "text/plain": [
       "<Figure size 640x480 with 1 Axes>"
      ]
     },
     "metadata": {},
     "output_type": "display_data"
    }
   ],
   "source": [
    "# Plot the data points\n",
    "plt.plot(X, Y, 'rx', label = 'Y')\n",
    "y_pred = forward(X,w_final,b_final)\n",
    "plt.plot(X, y_pred, label = 'f')\n",
    "\n",
    "plt.xlabel('x')\n",
    "plt.ylabel('y')\n",
    "plt.legend()\n",
    "plt.show()"
   ]
  },
  {
   "cell_type": "code",
   "execution_count": 9,
   "metadata": {
    "colab": {
     "base_uri": "https://localhost:8080/"
    },
    "executionInfo": {
     "elapsed": 323,
     "status": "ok",
     "timestamp": 1691388108882,
     "user": {
      "displayName": "Kusuma Rahul Siddartha Sakya ee22m015",
      "userId": "00106052245300070047"
     },
     "user_tz": -330
    },
    "id": "CtqT7njtdI3n",
    "outputId": "016a4852-8e3b-4f6a-c013-f921b756c8b2"
   },
   "outputs": [
    {
     "name": "stdout",
     "output_type": "stream",
     "text": [
      "True parameters: w=-3 and b=2\n",
      "Predicted parameters: w=-3.0087724701092555 and b=2.253329777276451\n"
     ]
    }
   ],
   "source": [
    "print(f'True parameters: w=-3 and b=2')\n",
    "print(f'Predicted parameters: w={w_final} and b={b_final}')"
   ]
  },
  {
   "cell_type": "code",
   "execution_count": 11,
   "metadata": {},
   "outputs": [
    {
     "name": "stdout",
     "output_type": "stream",
     "text": [
      "C:\\Users\\91850\n"
     ]
    }
   ],
   "source": [
    "cd"
   ]
  },
  {
   "cell_type": "code",
   "execution_count": null,
   "metadata": {},
   "outputs": [],
   "source": []
  }
 ],
 "metadata": {
  "colab": {
   "provenance": [
    {
     "file_id": "https://github.com/Rohith-Rongali/EE5179-2023/blob/main/Tutorials/Tutorial-1/Lin_Reg.ipynb",
     "timestamp": 1691352403352
    }
   ],
   "toc_visible": true
  },
  "kernelspec": {
   "display_name": "Python 3 (ipykernel)",
   "language": "python",
   "name": "python3"
  },
  "language_info": {
   "codemirror_mode": {
    "name": "ipython",
    "version": 3
   },
   "file_extension": ".py",
   "mimetype": "text/x-python",
   "name": "python",
   "nbconvert_exporter": "python",
   "pygments_lexer": "ipython3",
   "version": "3.9.13"
  }
 },
 "nbformat": 4,
 "nbformat_minor": 1
}
