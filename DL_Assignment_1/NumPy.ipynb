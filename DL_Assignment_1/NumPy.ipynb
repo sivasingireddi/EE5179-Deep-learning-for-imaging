{
 "cells": [
  {
   "cell_type": "code",
   "execution_count": 1,
   "metadata": {
    "colab": {
     "base_uri": "https://localhost:8080/"
    },
    "executionInfo": {
     "elapsed": 31,
     "status": "ok",
     "timestamp": 1691349346748,
     "user": {
      "displayName": "Kusuma Rahul Siddartha Sakya ee22m015",
      "userId": "00106052245300070047"
     },
     "user_tz": -330
    },
    "id": "alrXoCflGKM8",
    "outputId": "ac8adcbf-c7af-4ca1-9910-0f319beab198"
   },
   "outputs": [
    {
     "name": "stdout",
     "output_type": "stream",
     "text": [
      "1.21.5\n"
     ]
    }
   ],
   "source": [
    "import numpy as np\n",
    "print(np.__version__)\n",
    "import matplotlib.pylab as plt"
   ]
  },
  {
   "cell_type": "markdown",
   "metadata": {
    "id": "C6DUK8dwjExh"
   },
   "source": [
    "# Numpy Basics:\n"
   ]
  },
  {
   "cell_type": "markdown",
   "metadata": {
    "id": "9x-UquUqkMWs"
   },
   "source": [
    "**Exercise #1:** Creating a numpy array with particular value\n",
    "\n",
    "**Your Task** Create a numpy array with size 2*3 with all elements as 5."
   ]
  },
  {
   "cell_type": "code",
   "execution_count": 2,
   "metadata": {
    "colab": {
     "base_uri": "https://localhost:8080/"
    },
    "executionInfo": {
     "elapsed": 13,
     "status": "ok",
     "timestamp": 1691349458269,
     "user": {
      "displayName": "Kusuma Rahul Siddartha Sakya ee22m015",
      "userId": "00106052245300070047"
     },
     "user_tz": -330
    },
    "id": "jyhhYUA4kpqj",
    "outputId": "d3882d2c-1321-4716-94b0-d39f0f93f70a"
   },
   "outputs": [
    {
     "name": "stdout",
     "output_type": "stream",
     "text": [
      "[[5 5 5]\n",
      " [5 5 5]]\n"
     ]
    }
   ],
   "source": [
    "# YOUR CODE STARTS HERE\n",
    "arr=np.full((2, 3), 5)\n",
    "# YOUR CODE ENDS HERE\n",
    "print(arr)"
   ]
  },
  {
   "cell_type": "markdown",
   "metadata": {
    "id": "5NaczYqflEd5"
   },
   "source": [
    "**Exercise #2:** Creating a numpy array with *random* value\n",
    "\n",
    "**Your Task** Create a numpy array with size 2*3 with all random values"
   ]
  },
  {
   "cell_type": "code",
   "execution_count": 3,
   "metadata": {
    "colab": {
     "base_uri": "https://localhost:8080/"
    },
    "executionInfo": {
     "elapsed": 1174,
     "status": "ok",
     "timestamp": 1691349515302,
     "user": {
      "displayName": "Kusuma Rahul Siddartha Sakya ee22m015",
      "userId": "00106052245300070047"
     },
     "user_tz": -330
    },
    "id": "9H2HQNC9lL-0",
    "outputId": "f2c189bb-4a5f-4676-8d46-03021794d964"
   },
   "outputs": [
    {
     "name": "stdout",
     "output_type": "stream",
     "text": [
      "[[0.07531495 0.21069349 0.87497892]\n",
      " [0.04299628 0.57090416 0.54652015]]\n"
     ]
    }
   ],
   "source": [
    "# YOUR CODE STARTS HERE\n",
    "rand_arr=np.random.rand(2, 3)\n",
    "# YOUR CODE ENDS HERE\n",
    "print(rand_arr)"
   ]
  },
  {
   "cell_type": "markdown",
   "metadata": {
    "id": "uT4LJPBFldNc"
   },
   "source": [
    "**Exercise #3:** Basic NumPy operatrions\n",
    "\n",
    "**Your Task** For the random array `arr`defined above, find the `sum` of all the elements, `mean`, `maximum` and `minimum` value"
   ]
  },
  {
   "cell_type": "code",
   "execution_count": 4,
   "metadata": {
    "colab": {
     "base_uri": "https://localhost:8080/"
    },
    "executionInfo": {
     "elapsed": 379,
     "status": "ok",
     "timestamp": 1691349648264,
     "user": {
      "displayName": "Kusuma Rahul Siddartha Sakya ee22m015",
      "userId": "00106052245300070047"
     },
     "user_tz": -330
    },
    "id": "UDrDaAK4l5gq",
    "outputId": "1e6d5a7b-5618-41ed-acf0-668ed5911681"
   },
   "outputs": [
    {
     "name": "stdout",
     "output_type": "stream",
     "text": [
      "sum: 2.321407950704144\n",
      "mean: 0.38690132511735736\n",
      "max: 0.8749789174808632\n",
      "min:0.042996281094153654\n"
     ]
    }
   ],
   "source": [
    "#YOUR CODE STARTS HERE\n",
    "arr_sum=np.sum(rand_arr)\n",
    "arr_mean=np.mean(rand_arr)\n",
    "arr_max=np.max(rand_arr)\n",
    "arr_min=np.min(rand_arr)\n",
    "#YOUR CODE ENDS HERE\n",
    "\n",
    "print(f'sum: {arr_sum}\\nmean: {arr_mean}\\nmax: {arr_max}\\nmin:{arr_min}')"
   ]
  },
  {
   "cell_type": "markdown",
   "metadata": {
    "id": "JzoFSwHjl3dW"
   },
   "source": [
    "**Exercise #4:** `argmin` and `argmax`\n",
    "\n",
    "**Your Task** For the random array `arr`defined below:\n",
    "\n",
    "*   Find the position of maximum and minimum value of above array\n",
    "*   Find the indices of maximum and minimum value along each of its columns.\n",
    "*   Find the indices of maximum and minimum value along each of the its rows.\n",
    "\n"
   ]
  },
  {
   "cell_type": "code",
   "execution_count": 5,
   "metadata": {
    "colab": {
     "base_uri": "https://localhost:8080/"
    },
    "executionInfo": {
     "elapsed": 371,
     "status": "ok",
     "timestamp": 1691350562970,
     "user": {
      "displayName": "Kusuma Rahul Siddartha Sakya ee22m015",
      "userId": "00106052245300070047"
     },
     "user_tz": -330
    },
    "id": "VBawwx5KmpZR",
    "outputId": "0bfd7c79-d7c3-4157-aa14-f1229e850368"
   },
   "outputs": [
    {
     "name": "stdout",
     "output_type": "stream",
     "text": [
      "Array:\n",
      "[[ 5 12 51 25]\n",
      " [25 29  2 27]]\n",
      "\n",
      "Indices of max value: (0, 2)\n",
      "Indices of min value: (1, 2)\n",
      "Max value along columns: [25 29 51 27]\n",
      "Min value along columns: [ 5 12  2 25]\n",
      "Max value along rows: [51 29]\n",
      "Min value along rows: [5 2]\n"
     ]
    }
   ],
   "source": [
    "# Define an array\n",
    "arr = np.array([[5,12,51,25] ,[25,29,2,27]])\n",
    "print(f'Array:\\n{arr}\\n')\n",
    "# YOUR CODE STARTS HERE\n",
    "#Find the position of maximum and minimum value of above array\n",
    "print(f'Indices of max value: {np.unravel_index(np.argmax(arr, axis=None), arr.shape)}')\n",
    "print(f'Indices of min value: {np.unravel_index(np.argmin(arr, axis=None), arr.shape)}')\n",
    "#Find the indices of maximum and minimum value along each of its columns.\n",
    "print(f'Max value along columns: {np.max(arr,axis=0)}')\n",
    "print(f'Min value along columns: {np.min(arr,axis=0)}')\n",
    "#Find the indices of maximum and minimum value along each of the its rows.\n",
    "print(f'Max value along rows: {np.max(arr,axis=1)}')\n",
    "print(f'Min value along rows: {np.min(arr,axis=1)}')\n",
    "#YOUR CODE ENDS HERE"
   ]
  },
  {
   "cell_type": "code",
   "execution_count": null,
   "metadata": {},
   "outputs": [],
   "source": []
  },
  {
   "cell_type": "code",
   "execution_count": null,
   "metadata": {},
   "outputs": [],
   "source": []
  }
 ],
 "metadata": {
  "colab": {
   "provenance": [
    {
     "file_id": "https://github.com/Rohith-Rongali/EE5179-2023/blob/main/Tutorials/Tutorial-1/NumPy.ipynb",
     "timestamp": 1691218836198
    }
   ],
   "toc_visible": true
  },
  "kernelspec": {
   "display_name": "Python 3 (ipykernel)",
   "language": "python",
   "name": "python3"
  },
  "language_info": {
   "codemirror_mode": {
    "name": "ipython",
    "version": 3
   },
   "file_extension": ".py",
   "mimetype": "text/x-python",
   "name": "python",
   "nbconvert_exporter": "python",
   "pygments_lexer": "ipython3",
   "version": "3.9.13"
  }
 },
 "nbformat": 4,
 "nbformat_minor": 1
}
